{
 "cells": [
  {
   "cell_type": "markdown",
   "metadata": {},
   "source": [
    "## Growth Challenge @ The Information"
   ]
  },
  {
   "cell_type": "markdown",
   "metadata": {},
   "source": [
    "Explanation\n",
    "For the purposes of this challenge, assume The Information is experimenting with new types of subject lines for our article emails to increase performance. Thus far, five articles have been sent since the experiment started. Two of these articles contain normal subject (article title), two have slight variations from normal subject lines, and the last has a wildly experimental subject. \n",
    "\n",
    "The accompanying spreadsheet contains the outlines of two tables: email_events and articles. The relationship between the two tables is a one-to-many in that articles can have many email_events while an email can only be associated with one article. Please note, an article email that was opened will have both a delivered and an open event."
   ]
  },
  {
   "cell_type": "code",
   "execution_count": 167,
   "metadata": {},
   "outputs": [],
   "source": [
    "import pandas as pd\n",
    "import seaborn as sns\n",
    "from sqlalchemy import create_engine\n",
    "from pprint import pprint"
   ]
  },
  {
   "cell_type": "code",
   "execution_count": 3,
   "metadata": {},
   "outputs": [],
   "source": [
    "email_events = pd.read_excel('Growth_Analyst_Challenge.xlsx', sheet_name='Email_events')\n",
    "articles = pd.read_excel('Growth_Analyst_Challenge.xlsx', sheet_name='Articles')"
   ]
  },
  {
   "cell_type": "code",
   "execution_count": 7,
   "metadata": {},
   "outputs": [
    {
     "name": "stdout",
     "output_type": "stream",
     "text": [
      "(51548, 3)\n"
     ]
    },
    {
     "data": {
      "text/html": [
       "<div>\n",
       "<style scoped>\n",
       "    .dataframe tbody tr th:only-of-type {\n",
       "        vertical-align: middle;\n",
       "    }\n",
       "\n",
       "    .dataframe tbody tr th {\n",
       "        vertical-align: top;\n",
       "    }\n",
       "\n",
       "    .dataframe thead th {\n",
       "        text-align: right;\n",
       "    }\n",
       "</style>\n",
       "<table border=\"1\" class=\"dataframe\">\n",
       "  <thead>\n",
       "    <tr style=\"text-align: right;\">\n",
       "      <th></th>\n",
       "      <th>id</th>\n",
       "      <th>article_id</th>\n",
       "      <th>action</th>\n",
       "    </tr>\n",
       "  </thead>\n",
       "  <tbody>\n",
       "    <tr>\n",
       "      <th>0</th>\n",
       "      <td>1</td>\n",
       "      <td>5</td>\n",
       "      <td>delivered</td>\n",
       "    </tr>\n",
       "    <tr>\n",
       "      <th>1</th>\n",
       "      <td>2</td>\n",
       "      <td>1</td>\n",
       "      <td>open</td>\n",
       "    </tr>\n",
       "    <tr>\n",
       "      <th>2</th>\n",
       "      <td>3</td>\n",
       "      <td>1</td>\n",
       "      <td>delivered</td>\n",
       "    </tr>\n",
       "  </tbody>\n",
       "</table>\n",
       "</div>"
      ],
      "text/plain": [
       "   id  article_id     action\n",
       "0   1           5  delivered\n",
       "1   2           1       open\n",
       "2   3           1  delivered"
      ]
     },
     "execution_count": 7,
     "metadata": {},
     "output_type": "execute_result"
    }
   ],
   "source": [
    "print(email_events.shape)\n",
    "email_events.head(3)"
   ]
  },
  {
   "cell_type": "code",
   "execution_count": 184,
   "metadata": {},
   "outputs": [
    {
     "name": "stdout",
     "output_type": "stream",
     "text": [
      "(5, 3)\n"
     ]
    },
    {
     "data": {
      "text/html": [
       "<div>\n",
       "<style scoped>\n",
       "    .dataframe tbody tr th:only-of-type {\n",
       "        vertical-align: middle;\n",
       "    }\n",
       "\n",
       "    .dataframe tbody tr th {\n",
       "        vertical-align: top;\n",
       "    }\n",
       "\n",
       "    .dataframe thead th {\n",
       "        text-align: right;\n",
       "    }\n",
       "</style>\n",
       "<table border=\"1\" class=\"dataframe\">\n",
       "  <thead>\n",
       "    <tr style=\"text-align: right;\">\n",
       "      <th></th>\n",
       "      <th>id</th>\n",
       "      <th>title</th>\n",
       "      <th>subject</th>\n",
       "    </tr>\n",
       "  </thead>\n",
       "  <tbody>\n",
       "    <tr>\n",
       "      <th>0</th>\n",
       "      <td>1</td>\n",
       "      <td>Bitcoin, Unicorns and Why All Bubbles Aren’t C...</td>\n",
       "      <td>hey… you should read this</td>\n",
       "    </tr>\n",
       "    <tr>\n",
       "      <th>1</th>\n",
       "      <td>2</td>\n",
       "      <td>Google May Step Into Gaming With ‘Yeti’ Stream...</td>\n",
       "      <td>EXCLUSIVE: Google May Step Into Gaming With ‘Y...</td>\n",
       "    </tr>\n",
       "    <tr>\n",
       "      <th>2</th>\n",
       "      <td>3</td>\n",
       "      <td>Spotify’s Q3 Revenue Points to Full Year Growt...</td>\n",
       "      <td>Exclusive: Spotify’s Q3 Revenue Points to Full...</td>\n",
       "    </tr>\n",
       "    <tr>\n",
       "      <th>3</th>\n",
       "      <td>4</td>\n",
       "      <td>Why 2021-2022 Could Be a Watershed for TV Sports</td>\n",
       "      <td>Why 2021-2022 Could Be a Watershed for TV Sports</td>\n",
       "    </tr>\n",
       "    <tr>\n",
       "      <th>4</th>\n",
       "      <td>5</td>\n",
       "      <td>At Tencent, Tensions Rise Over the Future of W...</td>\n",
       "      <td>At Tencent, Tensions Rise Over the Future of W...</td>\n",
       "    </tr>\n",
       "  </tbody>\n",
       "</table>\n",
       "</div>"
      ],
      "text/plain": [
       "   id                                              title  \\\n",
       "0   1  Bitcoin, Unicorns and Why All Bubbles Aren’t C...   \n",
       "1   2  Google May Step Into Gaming With ‘Yeti’ Stream...   \n",
       "2   3  Spotify’s Q3 Revenue Points to Full Year Growt...   \n",
       "3   4   Why 2021-2022 Could Be a Watershed for TV Sports   \n",
       "4   5  At Tencent, Tensions Rise Over the Future of W...   \n",
       "\n",
       "                                             subject  \n",
       "0                          hey… you should read this  \n",
       "1  EXCLUSIVE: Google May Step Into Gaming With ‘Y...  \n",
       "2  Exclusive: Spotify’s Q3 Revenue Points to Full...  \n",
       "3   Why 2021-2022 Could Be a Watershed for TV Sports  \n",
       "4  At Tencent, Tensions Rise Over the Future of W...  "
      ]
     },
     "execution_count": 184,
     "metadata": {},
     "output_type": "execute_result"
    }
   ],
   "source": [
    "print(articles.shape)\n",
    "articles.head()"
   ]
  },
  {
   "cell_type": "code",
   "execution_count": 28,
   "metadata": {},
   "outputs": [
    {
     "name": "stdout",
     "output_type": "stream",
     "text": [
      "(51548, 6)\n",
      "(51548, 5)\n"
     ]
    }
   ],
   "source": [
    "merged = pd.merge(left=email_events, right=articles, how='left', left_on='article_id', right_on='id')\n",
    "print(merged.shape)\n",
    "merged = merged.drop(['id_y'], axis=1).rename(columns={\"id_x\":\"id\"})\n",
    "print(merged.shape)"
   ]
  },
  {
   "cell_type": "code",
   "execution_count": 29,
   "metadata": {},
   "outputs": [
    {
     "data": {
      "text/html": [
       "<div>\n",
       "<style scoped>\n",
       "    .dataframe tbody tr th:only-of-type {\n",
       "        vertical-align: middle;\n",
       "    }\n",
       "\n",
       "    .dataframe tbody tr th {\n",
       "        vertical-align: top;\n",
       "    }\n",
       "\n",
       "    .dataframe thead th {\n",
       "        text-align: right;\n",
       "    }\n",
       "</style>\n",
       "<table border=\"1\" class=\"dataframe\">\n",
       "  <thead>\n",
       "    <tr style=\"text-align: right;\">\n",
       "      <th></th>\n",
       "      <th>id</th>\n",
       "      <th>article_id</th>\n",
       "      <th>action</th>\n",
       "      <th>title</th>\n",
       "      <th>subject</th>\n",
       "    </tr>\n",
       "  </thead>\n",
       "  <tbody>\n",
       "    <tr>\n",
       "      <th>0</th>\n",
       "      <td>1</td>\n",
       "      <td>5</td>\n",
       "      <td>delivered</td>\n",
       "      <td>At Tencent, Tensions Rise Over the Future of W...</td>\n",
       "      <td>At Tencent, Tensions Rise Over the Future of W...</td>\n",
       "    </tr>\n",
       "    <tr>\n",
       "      <th>1</th>\n",
       "      <td>2</td>\n",
       "      <td>1</td>\n",
       "      <td>open</td>\n",
       "      <td>Bitcoin, Unicorns and Why All Bubbles Aren’t C...</td>\n",
       "      <td>hey… you should read this</td>\n",
       "    </tr>\n",
       "    <tr>\n",
       "      <th>2</th>\n",
       "      <td>3</td>\n",
       "      <td>1</td>\n",
       "      <td>delivered</td>\n",
       "      <td>Bitcoin, Unicorns and Why All Bubbles Aren’t C...</td>\n",
       "      <td>hey… you should read this</td>\n",
       "    </tr>\n",
       "  </tbody>\n",
       "</table>\n",
       "</div>"
      ],
      "text/plain": [
       "   id  article_id     action  \\\n",
       "0   1           5  delivered   \n",
       "1   2           1       open   \n",
       "2   3           1  delivered   \n",
       "\n",
       "                                               title  \\\n",
       "0  At Tencent, Tensions Rise Over the Future of W...   \n",
       "1  Bitcoin, Unicorns and Why All Bubbles Aren’t C...   \n",
       "2  Bitcoin, Unicorns and Why All Bubbles Aren’t C...   \n",
       "\n",
       "                                             subject  \n",
       "0  At Tencent, Tensions Rise Over the Future of W...  \n",
       "1                          hey… you should read this  \n",
       "2                          hey… you should read this  "
      ]
     },
     "execution_count": 29,
     "metadata": {},
     "output_type": "execute_result"
    }
   ],
   "source": [
    "merged.head(3)"
   ]
  },
  {
   "cell_type": "markdown",
   "metadata": {},
   "source": [
    "## Question 1\n",
    "\n",
    "**Management has asked to see a report with the preliminary results of the experiment. Specifically, they would like to see which articles / subject lines have performed the best in terms of open rate, click rate, and click-to-open rate. By using the tool of your choice, please provide management with an analysis of the results from the first five emails.**"
   ]
  },
  {
   "cell_type": "code",
   "execution_count": 30,
   "metadata": {},
   "outputs": [
    {
     "data": {
      "text/plain": [
       "delivered    29640\n",
       "open         16521\n",
       "click         5387\n",
       "Name: action, dtype: int64"
      ]
     },
     "execution_count": 30,
     "metadata": {},
     "output_type": "execute_result"
    }
   ],
   "source": [
    "merged['action'].value_counts()"
   ]
  },
  {
   "cell_type": "code",
   "execution_count": 65,
   "metadata": {},
   "outputs": [],
   "source": [
    "# # Method through groupby > value_counts\n",
    "# action=pd.DataFrame(merged.groupby('article_id')['action'].value_counts())"
   ]
  },
  {
   "cell_type": "code",
   "execution_count": 78,
   "metadata": {},
   "outputs": [],
   "source": [
    "# Using pivot table\n",
    "pivot = merged.pivot_table(index='article_id', columns='action', aggfunc='size')"
   ]
  },
  {
   "cell_type": "code",
   "execution_count": 77,
   "metadata": {},
   "outputs": [
    {
     "data": {
      "text/html": [
       "<div>\n",
       "<style scoped>\n",
       "    .dataframe tbody tr th:only-of-type {\n",
       "        vertical-align: middle;\n",
       "    }\n",
       "\n",
       "    .dataframe tbody tr th {\n",
       "        vertical-align: top;\n",
       "    }\n",
       "\n",
       "    .dataframe thead th {\n",
       "        text-align: right;\n",
       "    }\n",
       "</style>\n",
       "<table border=\"1\" class=\"dataframe\">\n",
       "  <thead>\n",
       "    <tr style=\"text-align: right;\">\n",
       "      <th>action</th>\n",
       "      <th>click</th>\n",
       "      <th>delivered</th>\n",
       "      <th>open</th>\n",
       "    </tr>\n",
       "    <tr>\n",
       "      <th>article_id</th>\n",
       "      <th></th>\n",
       "      <th></th>\n",
       "      <th></th>\n",
       "    </tr>\n",
       "  </thead>\n",
       "  <tbody>\n",
       "    <tr>\n",
       "      <th>1</th>\n",
       "      <td>1180</td>\n",
       "      <td>5938</td>\n",
       "      <td>4056</td>\n",
       "    </tr>\n",
       "    <tr>\n",
       "      <th>2</th>\n",
       "      <td>1188</td>\n",
       "      <td>5930</td>\n",
       "      <td>3356</td>\n",
       "    </tr>\n",
       "    <tr>\n",
       "      <th>3</th>\n",
       "      <td>1037</td>\n",
       "      <td>5920</td>\n",
       "      <td>3122</td>\n",
       "    </tr>\n",
       "    <tr>\n",
       "      <th>4</th>\n",
       "      <td>989</td>\n",
       "      <td>5926</td>\n",
       "      <td>3015</td>\n",
       "    </tr>\n",
       "    <tr>\n",
       "      <th>5</th>\n",
       "      <td>993</td>\n",
       "      <td>5926</td>\n",
       "      <td>2972</td>\n",
       "    </tr>\n",
       "  </tbody>\n",
       "</table>\n",
       "</div>"
      ],
      "text/plain": [
       "action      click  delivered  open\n",
       "article_id                        \n",
       "1            1180       5938  4056\n",
       "2            1188       5930  3356\n",
       "3            1037       5920  3122\n",
       "4             989       5926  3015\n",
       "5             993       5926  2972"
      ]
     },
     "execution_count": 77,
     "metadata": {},
     "output_type": "execute_result"
    }
   ],
   "source": [
    "pivot"
   ]
  },
  {
   "cell_type": "code",
   "execution_count": 82,
   "metadata": {},
   "outputs": [],
   "source": [
    "open_rate = round(pivot['open']/pivot['delivered'] * 100, 2)\n",
    "click_rate = round(pivot['click']/pivot['delivered'] * 100, 2)\n",
    "click_to_open_rate = round(pivot['click']/pivot['open'] * 100, 2)"
   ]
  },
  {
   "cell_type": "code",
   "execution_count": 88,
   "metadata": {},
   "outputs": [],
   "source": [
    "pivot['open_rate'] = open_rate\n",
    "pivot['click_rate'] = click_rate\n",
    "pivot['click_to_open_rate'] = click_to_open_rate"
   ]
  },
  {
   "cell_type": "code",
   "execution_count": 176,
   "metadata": {},
   "outputs": [],
   "source": [
    "pivot = pivot.reset_index()"
   ]
  },
  {
   "cell_type": "code",
   "execution_count": 182,
   "metadata": {},
   "outputs": [],
   "source": [
    "pivot_merge = pd.merge(left=articles, right=pivot, how='left', left_on='id', right_on='article_id').drop(['id'], axis=1)"
   ]
  },
  {
   "cell_type": "code",
   "execution_count": 183,
   "metadata": {},
   "outputs": [
    {
     "data": {
      "text/html": [
       "<div>\n",
       "<style scoped>\n",
       "    .dataframe tbody tr th:only-of-type {\n",
       "        vertical-align: middle;\n",
       "    }\n",
       "\n",
       "    .dataframe tbody tr th {\n",
       "        vertical-align: top;\n",
       "    }\n",
       "\n",
       "    .dataframe thead th {\n",
       "        text-align: right;\n",
       "    }\n",
       "</style>\n",
       "<table border=\"1\" class=\"dataframe\">\n",
       "  <thead>\n",
       "    <tr style=\"text-align: right;\">\n",
       "      <th></th>\n",
       "      <th>title</th>\n",
       "      <th>subject</th>\n",
       "      <th>article_id</th>\n",
       "      <th>click</th>\n",
       "      <th>delivered</th>\n",
       "      <th>open</th>\n",
       "      <th>open_rate</th>\n",
       "      <th>click_rate</th>\n",
       "      <th>click_to_open_rate</th>\n",
       "    </tr>\n",
       "  </thead>\n",
       "  <tbody>\n",
       "    <tr>\n",
       "      <th>0</th>\n",
       "      <td>Bitcoin, Unicorns and Why All Bubbles Aren’t C...</td>\n",
       "      <td>hey… you should read this</td>\n",
       "      <td>1</td>\n",
       "      <td>1180</td>\n",
       "      <td>5938</td>\n",
       "      <td>4056</td>\n",
       "      <td>68.31</td>\n",
       "      <td>19.87</td>\n",
       "      <td>29.09</td>\n",
       "    </tr>\n",
       "    <tr>\n",
       "      <th>1</th>\n",
       "      <td>Google May Step Into Gaming With ‘Yeti’ Stream...</td>\n",
       "      <td>EXCLUSIVE: Google May Step Into Gaming With ‘Y...</td>\n",
       "      <td>2</td>\n",
       "      <td>1188</td>\n",
       "      <td>5930</td>\n",
       "      <td>3356</td>\n",
       "      <td>56.59</td>\n",
       "      <td>20.03</td>\n",
       "      <td>35.40</td>\n",
       "    </tr>\n",
       "    <tr>\n",
       "      <th>2</th>\n",
       "      <td>Spotify’s Q3 Revenue Points to Full Year Growt...</td>\n",
       "      <td>Exclusive: Spotify’s Q3 Revenue Points to Full...</td>\n",
       "      <td>3</td>\n",
       "      <td>1037</td>\n",
       "      <td>5920</td>\n",
       "      <td>3122</td>\n",
       "      <td>52.74</td>\n",
       "      <td>17.52</td>\n",
       "      <td>33.22</td>\n",
       "    </tr>\n",
       "    <tr>\n",
       "      <th>3</th>\n",
       "      <td>Why 2021-2022 Could Be a Watershed for TV Sports</td>\n",
       "      <td>Why 2021-2022 Could Be a Watershed for TV Sports</td>\n",
       "      <td>4</td>\n",
       "      <td>989</td>\n",
       "      <td>5926</td>\n",
       "      <td>3015</td>\n",
       "      <td>50.88</td>\n",
       "      <td>16.69</td>\n",
       "      <td>32.80</td>\n",
       "    </tr>\n",
       "    <tr>\n",
       "      <th>4</th>\n",
       "      <td>At Tencent, Tensions Rise Over the Future of W...</td>\n",
       "      <td>At Tencent, Tensions Rise Over the Future of W...</td>\n",
       "      <td>5</td>\n",
       "      <td>993</td>\n",
       "      <td>5926</td>\n",
       "      <td>2972</td>\n",
       "      <td>50.15</td>\n",
       "      <td>16.76</td>\n",
       "      <td>33.41</td>\n",
       "    </tr>\n",
       "  </tbody>\n",
       "</table>\n",
       "</div>"
      ],
      "text/plain": [
       "                                               title  \\\n",
       "0  Bitcoin, Unicorns and Why All Bubbles Aren’t C...   \n",
       "1  Google May Step Into Gaming With ‘Yeti’ Stream...   \n",
       "2  Spotify’s Q3 Revenue Points to Full Year Growt...   \n",
       "3   Why 2021-2022 Could Be a Watershed for TV Sports   \n",
       "4  At Tencent, Tensions Rise Over the Future of W...   \n",
       "\n",
       "                                             subject  article_id  click  \\\n",
       "0                          hey… you should read this           1   1180   \n",
       "1  EXCLUSIVE: Google May Step Into Gaming With ‘Y...           2   1188   \n",
       "2  Exclusive: Spotify’s Q3 Revenue Points to Full...           3   1037   \n",
       "3   Why 2021-2022 Could Be a Watershed for TV Sports           4    989   \n",
       "4  At Tencent, Tensions Rise Over the Future of W...           5    993   \n",
       "\n",
       "   delivered  open  open_rate  click_rate  click_to_open_rate  \n",
       "0       5938  4056      68.31       19.87               29.09  \n",
       "1       5930  3356      56.59       20.03               35.40  \n",
       "2       5920  3122      52.74       17.52               33.22  \n",
       "3       5926  3015      50.88       16.69               32.80  \n",
       "4       5926  2972      50.15       16.76               33.41  "
      ]
     },
     "execution_count": 183,
     "metadata": {},
     "output_type": "execute_result"
    }
   ],
   "source": [
    "pivot_merge"
   ]
  },
  {
   "cell_type": "markdown",
   "metadata": {},
   "source": [
    "## Question 2\n",
    "\n",
    "**Please provide management with some suggestions on how they could scale or change this test to get a better understanding of the effectiveness of the changes being tested.**"
   ]
  },
  {
   "cell_type": "markdown",
   "metadata": {},
   "source": [
    "1. I would add another table 'users' to identify which type of users (paid/free) are opening / clicking the emails.\n",
    " - Are the users subscribing/unsubscribing/marking-as-spam after engaging with the email? (subscribe/unsubscribe rate, conversion rate).\n",
    " - Is the user sharing/forwarding the email to other people?\n",
    " \n",
    "2. I would add a time variable that accounts for how long the user engages with the email \n",
    " - how long it keeps the email open?\n",
    " - how long does it take before the user opens/clicks the email?\n",
    " \n",
    "3. Maybe we are seeing larger ratios for some sent emails because they were sent during better times\n",
    " - We might want to send all tests at the same times\n",
    " - What time is the most effective in terms of opening and clicking each email test?\n",
    " \n",
    "4. Device type?\n",
    " - Is the user opening/clicking the emails on a tablet/mobile instead of a desktop? Is the user opening on a mobile and then using a desktop? This might indicate that the user got interested on the email and is now spending more time engaging with it using a bigger display.\n",
    " \n",
    "5. We might also want to analyze/compare the most efficient subject line lengths.\n",
    " - What is the optimal character length?\n"
   ]
  },
  {
   "cell_type": "markdown",
   "metadata": {},
   "source": [
    "## Question 3\n",
    "\n",
    "**As a thought exercise, assume the number of email_events being generated is now on the order of ~3M per day. What strategies, tools, or technologies would you advise management that we should be using in order to effectively and performantly analyze the data?**"
   ]
  },
  {
   "cell_type": "markdown",
   "metadata": {},
   "source": [
    "I believe that we are using a cloud storage service. (AWS S3, redshift/ GCP)\n",
    "We might want to build a data pipeline (ETL) that performs scheduling and monitoring of data analysis (weekly/monthly) and records dashboard updates for each time period, comparing the email experiments.\n",
    " - The ETL (e.g. Apache Spark) retrieves data from the warehouse periodically, transforms it, and connects to the dashboard service.\n"
   ]
  },
  {
   "cell_type": "markdown",
   "metadata": {},
   "source": [
    "## Question 4\n",
    "\n",
    "**Please construct a SQL statement using the two tables (in the spreadsheet, just assume they’re sql tables) with the following columns in the output ordered by the open rate from highest to lowest:**"
   ]
  },
  {
   "cell_type": "markdown",
   "metadata": {},
   "source": [
    "I answered this questions using Jupyter Notebook (Python > SQLAlchemy (SQLite) and also using PSQL (pgAdmin4_"
   ]
  },
  {
   "cell_type": "code",
   "execution_count": 97,
   "metadata": {},
   "outputs": [],
   "source": [
    "engine = create_engine('sqlite://', echo=False)"
   ]
  },
  {
   "cell_type": "code",
   "execution_count": 98,
   "metadata": {},
   "outputs": [],
   "source": [
    "email_events.to_sql('email_events', con=engine)\n",
    "articles.to_sql('articles', con=engine)"
   ]
  },
  {
   "cell_type": "code",
   "execution_count": 162,
   "metadata": {},
   "outputs": [],
   "source": [
    "query = engine.execute(\"SELECT article_id, \\\n",
    "subject, \\\n",
    "title, \\\n",
    "ROUND(CAST(open as float) / \\\n",
    "      CAST(delivered as float)*100, 2 \\\n",
    "      ) AS open_rate, \\\n",
    "click, \\\n",
    "delivered, \\\n",
    "open \\\n",
    "FROM \\\n",
    "    (SELECT article_id, \\\n",
    "        COUNT(CASE WHEN action = 'delivered' THEN action END) delivered, \\\n",
    "        COUNT(CASE WHEN action = 'click' THEN action END) click, \\\n",
    "        COUNT(CASE WHEN action = 'open' THEN action END) open FROM email_events \\\n",
    "    GROUP BY article_id \\\n",
    "    ) AS pivot \\\n",
    "JOIN articles ar ON ar.id = pivot.article_id ORDER BY open_rate DESC\").fetchall() "
   ]
  },
  {
   "cell_type": "code",
   "execution_count": 166,
   "metadata": {},
   "outputs": [
    {
     "name": "stdout",
     "output_type": "stream",
     "text": [
      "(1, 'hey… you should read this', 'Bitcoin, Unicorns and Why All Bubbles Aren’t Created Equal', 68.31, 1180, 5938, 4056)\n",
      "(2, 'EXCLUSIVE: Google May Step Into Gaming With ‘Yeti’ Streaming Service', 'Google May Step Into Gaming With ‘Yeti’ Streaming Service', 56.59, 1188, 5930, 3356)\n",
      "(3, 'Exclusive: Spotify’s Q3 Revenue Points to Full Year Growth of 40%', 'Spotify’s Q3 Revenue Points to Full Year Growth of 40%', 52.74, 1037, 5920, 3122)\n",
      "(4, 'Why 2021-2022 Could Be a Watershed for TV Sports', 'Why 2021-2022 Could Be a Watershed for TV Sports', 50.88, 989, 5926, 3015)\n",
      "(5, 'At Tencent, Tensions Rise Over the Future of WeChat', 'At Tencent, Tensions Rise Over the Future of WeChat', 50.15, 993, 5926, 2972)\n"
     ]
    }
   ],
   "source": [
    "for i in query:\n",
    "    print(i)"
   ]
  },
  {
   "cell_type": "markdown",
   "metadata": {},
   "source": [
    "<img src=\"Screen Shot 2021-04-25 at 1.20.49 PM.png\">"
   ]
  },
  {
   "cell_type": "code",
   "execution_count": null,
   "metadata": {},
   "outputs": [],
   "source": []
  }
 ],
 "metadata": {
  "kernelspec": {
   "display_name": "Python 3",
   "language": "python",
   "name": "python3"
  },
  "language_info": {
   "codemirror_mode": {
    "name": "ipython",
    "version": 3
   },
   "file_extension": ".py",
   "mimetype": "text/x-python",
   "name": "python",
   "nbconvert_exporter": "python",
   "pygments_lexer": "ipython3",
   "version": "3.8.5"
  }
 },
 "nbformat": 4,
 "nbformat_minor": 4
}
